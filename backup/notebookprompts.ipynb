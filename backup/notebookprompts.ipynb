{
 "cells": [
  {
   "cell_type": "code",
   "execution_count": 4,
   "id": "e231f982",
   "metadata": {},
   "outputs": [
    {
     "name": "stdout",
     "output_type": "stream",
     "text": [
      "\n",
      "        감독: 크리스토퍼 놀란\n",
      "        주요 출연진: 매튜 맥커너히, 앤 해서웨이, 제시카 차스테인\n",
      "        예산: 약 1억 6천만 달러\n",
      "        흥행 수익: 약 6억 7천만 달러\n",
      "        장르: SF, 드라마\n",
      "        시놉시스: 지구를 떠나 우주 여행을 떠나는 인류의 모험을 다룸."
     ]
    },
    {
     "data": {
      "text/plain": [
       "AIMessageChunk(content='\\n        감독: 크리스토퍼 놀란\\n        주요 출연진: 매튜 맥커너히, 앤 해서웨이, 제시카 차스테인\\n        예산: 약 1억 6천만 달러\\n        흥행 수익: 약 6억 7천만 달러\\n        장르: SF, 드라마\\n        시놉시스: 지구를 떠나 우주 여행을 떠나는 인류의 모험을 다룸.')"
      ]
     },
     "execution_count": 4,
     "metadata": {},
     "output_type": "execute_result"
    }
   ],
   "source": [
    "from langchain.chat_models import ChatOpenAI\n",
    "from langchain.prompts.few_shot import FewShotChatMessagePromptTemplate\n",
    "from langchain.callbacks import StreamingStdOutCallbackHandler\n",
    "from langchain.prompts import ChatMessagePromptTemplate, ChatPromptTemplate\n",
    "\n",
    "chat = ChatOpenAI(\n",
    "    temperature=0.1,\n",
    "    streaming=True,\n",
    "    callbacks=[\n",
    "        StreamingStdOutCallbackHandler(),\n",
    "    ],\n",
    ")\n",
    "\n",
    "\n",
    "examples = [\n",
    "    {\n",
    "        \"movie\": \"Inception\",\n",
    "        \"answer\": \"\"\"\n",
    "        감독: 크리스토퍼 놀란\n",
    "        주요 출연진: 레오나르도 디카프리오, 조셉 고든 레빗, 엘런 페이지\n",
    "        예산: 약 1억 6천만 달러\n",
    "        흥행 수익: 약 8억 2천만 달러\n",
    "        장르: SF, 액션, 스릴러\n",
    "        시놉시스: 꿈속에서 꿈을 조작하는 산업 스파이의 이야기를 다룸.\n",
    "        \"\"\",\n",
    "    },\n",
    "    {\n",
    "        \"movie\": \"Parasite\",\n",
    "        \"answer\": \"\"\"\n",
    "        감독: 봉준호\n",
    "        주요 출연진: 송강호, 이선균, 조여정\n",
    "        예산: 약 1,100만 달러\n",
    "        흥행 수익: 약 2억 6천만 달러\n",
    "        장르: 드라마, 스릴러, 블랙 코미디\n",
    "        시놉시스: 두 가족의 계급 갈등과 예기치 못한 사건을 그린 영화.\n",
    "        \"\"\",\n",
    "    },\n",
    "    {\n",
    "        \"movie\": \"The Godfather\",\n",
    "        \"answer\": \"\"\"\n",
    "        감독: 프란시스 포드 코폴라\n",
    "        주요 출연진: 말론 브란도, 알 파치노, 제임스 칸\n",
    "        예산: 약 600만 달러\n",
    "        흥행 수익: 약 2억 5천만 달러\n",
    "        장르: 범죄, 드라마\n",
    "        시놉시스: 마피아 가문의 권력과 가족 이야기를 그린 명작.\n",
    "        \"\"\",\n",
    "    },\n",
    "]\n",
    "\n",
    "\n",
    "example_prompt = ChatPromptTemplate.from_messages(\n",
    "    [\n",
    "        (\"human\", \"What do you know about {movie}?\"),\n",
    "        (\"ai\", \"{answer}\"),\n",
    "    ]\n",
    ")\n",
    "\n",
    "example_prompt = FewShotChatMessagePromptTemplate(\n",
    "    example_prompt=example_prompt,\n",
    "    examples=examples,\n",
    ")\n",
    "\n",
    "final_prompt = ChatPromptTemplate.from_messages(\n",
    "    [\n",
    "        (\"system\", \"You are a movie expert, you give short answers.\"),\n",
    "        example_prompt,\n",
    "        (\"human\", \"What do you know about {movie}?\"),\n",
    "    ]\n",
    ")\n",
    "\n",
    "chain = final_prompt | chat\n",
    "\n",
    "chain.invoke({\"movie\": \"Interstellar\"})"
   ]
  }
 ],
 "metadata": {
  "kernelspec": {
   "display_name": "env-py311",
   "language": "python",
   "name": "python3"
  },
  "language_info": {
   "codemirror_mode": {
    "name": "ipython",
    "version": 3
   },
   "file_extension": ".py",
   "mimetype": "text/x-python",
   "name": "python",
   "nbconvert_exporter": "python",
   "pygments_lexer": "ipython3",
   "version": "3.11.13"
  }
 },
 "nbformat": 4,
 "nbformat_minor": 5
}
