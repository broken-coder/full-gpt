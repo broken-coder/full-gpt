{
 "cells": [
  {
   "cell_type": "code",
   "execution_count": 39,
   "id": "e231f982",
   "metadata": {},
   "outputs": [
    {
     "name": "stdout",
     "output_type": "stream",
     "text": [
      "🚀🌌⏳🚀🌌⏳"
     ]
    },
    {
     "data": {
      "text/plain": [
       "AIMessageChunk(content='🚀🌌⏳')"
      ]
     },
     "execution_count": 39,
     "metadata": {},
     "output_type": "execute_result"
    }
   ],
   "source": [
    "from langchain.memory import ConversationSummaryBufferMemory\n",
    "from langchain.chat_models import ChatOpenAI\n",
    "from langchain.schema.runnable import RunnablePassthrough\n",
    "from langchain.prompts import ChatPromptTemplate, MessagesPlaceholder\n",
    "from langchain.prompts.few_shot import FewShotChatMessagePromptTemplate\n",
    "from langchain.callbacks import StreamingStdOutCallbackHandler\n",
    "from langchain.prompts import ChatMessagePromptTemplate, ChatPromptTemplate\n",
    "\n",
    "chat = ChatOpenAI(\n",
    "    temperature=0.1,\n",
    "    streaming=True,\n",
    "    callbacks=[\n",
    "        StreamingStdOutCallbackHandler(),\n",
    "    ],\n",
    ")\n",
    "examples = [\n",
    "    {\n",
    "        \"movie\": \"탑건\",\n",
    "        \"answer\": \"🛩️👨‍✈️🔥\"\n",
    "    },\n",
    "    {\n",
    "        \"movie\": \"대부\",\n",
    "        \"answer\": \"👨‍👨‍👦🔫🍝\"\n",
    "    },\n",
    "    {\n",
    "        \"movie\": \"인셉션\",\n",
    "        \"answer\": \"💤🌀🏙️\"\n",
    "    },\n",
    "    {\n",
    "        \"movie\": \"기생충\",\n",
    "        \"answer\": \"🏠🐛💰\"\n",
    "    },\n",
    "]\n",
    "\n",
    "llm = ChatOpenAI(temperature=0.1)\n",
    "\n",
    "memory = ConversationSummaryBufferMemory(\n",
    "    llm=llm,\n",
    "    max_token_limit=120,\n",
    "    return_messages=True,\n",
    ")\n",
    "\n",
    "prompt = ChatPromptTemplate.from_messages(\n",
    "    [\n",
    "        (\"system\", \"You are a helpful AI talking to a human\"),\n",
    "        MessagesPlaceholder(variable_name=\"history\"),\n",
    "        (\"human\", \"{question}\"),\n",
    "    ]\n",
    ")\n",
    "\n",
    "\n",
    "def load_memory(_):\n",
    "    return memory.load_memory_variables({})[\"history\"]\n",
    "\n",
    "\n",
    "\n",
    "\n",
    "\n",
    "def invoke_chain(question):\n",
    "    result = chain.invoke({\"question\": question})\n",
    "    memory.save_context(\n",
    "        {\"input\": question},\n",
    "        {\"output\": result.content},\n",
    "    )\n",
    "    print(result)\n",
    "\n",
    "\n",
    "example_prompt = ChatPromptTemplate.from_messages(\n",
    "    [\n",
    "        (\"human\", \"{movie} 영화 제목을  가져와 영화를 나타내는 세개의 이모티콘으로 응답해줘.\"),\n",
    "        (\"ai\", \"{answer}\"),\n",
    "    ]\n",
    ")\n",
    "\n",
    "example_prompt = FewShotChatMessagePromptTemplate(\n",
    "    example_prompt=example_prompt,\n",
    "    examples=examples,\n",
    ")\n",
    "\n",
    "final_prompt = ChatPromptTemplate.from_messages(\n",
    "    [\n",
    "        (\"system\", \"You are a movie expert, you give short answers.\"),\n",
    "        example_prompt,\n",
    "        (\"human\", \"{movie}영화 제목을  가져와 영화를 나타내는 세개의 이모티콘으로 응답해줘.\"),\n",
    "    ]\n",
    ")\n",
    "result = chain.invoke({\"movie\": \"Interstellar\"})\n",
    "memory.save_context({\"input\": \"Interstellar\"}, {\"output\": result.content})\n",
    "\n",
    "chain.invoke({\"movie\": \"Interstellar\"})"
   ]
  },
  {
   "cell_type": "code",
   "execution_count": 40,
   "id": "2e3696f5",
   "metadata": {},
   "outputs": [
    {
     "name": "stdout",
     "output_type": "stream",
     "text": [
      "👨‍👨‍👦🔫🍝"
     ]
    }
   ],
   "source": [
    "result = chain.invoke({\"movie\": \"대부\"})\n",
    "memory.save_context({\"input\": \"대부\"}, {\"output\": result.content})"
   ]
  },
  {
   "cell_type": "code",
   "execution_count": 41,
   "id": "373d582a",
   "metadata": {},
   "outputs": [
    {
     "name": "stdout",
     "output_type": "stream",
     "text": [
      "[HumanMessage(content='Interstellar'), AIMessage(content='🚀🌌⏳'), HumanMessage(content='대부'), AIMessage(content='👨\\u200d👨\\u200d👦🔫🍝')]\n"
     ]
    }
   ],
   "source": [
    "print(memory.load_memory_variables({})[\"history\"])"
   ]
  }
 ],
 "metadata": {
  "kernelspec": {
   "display_name": "env-py311",
   "language": "python",
   "name": "python3"
  },
  "language_info": {
   "codemirror_mode": {
    "name": "ipython",
    "version": 3
   },
   "file_extension": ".py",
   "mimetype": "text/x-python",
   "name": "python",
   "nbconvert_exporter": "python",
   "pygments_lexer": "ipython3",
   "version": "3.11.13"
  }
 },
 "nbformat": 4,
 "nbformat_minor": 5
}
