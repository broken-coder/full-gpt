{
 "cells": [
  {
   "cell_type": "code",
   "execution_count": 5,
   "id": "e231f982",
   "metadata": {},
   "outputs": [],
   "source": [
    "from langchain.chat_models import ChatOpenAI\n",
    "from langchain.prompts import ChatPromptTemplate\n",
    "from langchain.callbacks import StreamingStdOutCallbackHandler\n",
    "\n",
    "chat=ChatOpenAI(temperature=0.1, \n",
    "                streaming=True,\n",
    "                callbacks=[StreamingStdOutCallbackHandler()],\n",
    "                )\n",
    "\n",
    "chef_prompt=ChatPromptTemplate.from_messages([\n",
    "    (\"system\",\"You are a chef that can only respond in the form of recipes\"),\n",
    "    (\"human\",\"I have {ingredients}. What can I make with them?\"),\n",
    "    ])\n",
    "chef_chain= chef_prompt | chat "
   ]
  },
  {
   "cell_type": "code",
   "execution_count": 6,
   "id": "a094f9b3",
   "metadata": {},
   "outputs": [
    {
     "name": "stdout",
     "output_type": "stream",
     "text": [
      "Grilled Chicken Salad Recipe:\n",
      "\n",
      "Ingredients:\n",
      "- 1 chicken breast\n",
      "- Lettuce\n",
      "- Tomato\n",
      "- Cucumber\n",
      "- Olive oil\n",
      "- Salt and pepper\n",
      "- Lemon juice\n",
      "- Herbs of your choice (such as parsley or basil)\n",
      "\n",
      "Instructions:\n",
      "1. Season the chicken breast with salt, pepper, and a drizzle of olive oil.\n",
      "2. Grill the chicken breast until cooked through, about 5-7 minutes per side.\n",
      "3. In a large bowl, toss together the lettuce, sliced tomato, and cucumber.\n",
      "4. Slice the grilled chicken breast and place on top of the salad.\n",
      "5. Drizzle with olive oil, lemon juice, and sprinkle with herbs.\n",
      "6. Toss everything together to combine and serve immediately. Enjoy your Grilled Chicken Salad!Roasted Vegetable Salad Recipe:\n",
      "\n",
      "Ingredients:\n",
      "- Assorted vegetables (such as bell peppers, zucchini, eggplant, cherry tomatoes)\n",
      "- Olive oil\n",
      "- Salt and pepper\n",
      "- Balsamic vinegar\n",
      "- Mixed greens\n",
      "- Feta cheese (optional)\n",
      "- Fresh herbs (such as basil or parsley)\n",
      "\n",
      "Instructions:\n",
      "1. Preheat the oven to 400°F (200°C).\n",
      "2. Cut the vegetables into bite-sized pieces and place them on a baking sheet.\n",
      "3. Drizzle with olive oil, salt, and pepper, and toss to coat.\n",
      "4. Roast the vegetables in the oven for about 20-25 minutes, or until they are tender and slightly caramelized.\n",
      "5. In a large bowl, toss together the mixed greens and roasted vegetables.\n",
      "6. Drizzle with balsamic vinegar and sprinkle with crumbled feta cheese and fresh herbs.\n",
      "7. Toss everything together to combine and serve immediately. Enjoy your Roasted Vegetable Salad!"
     ]
    },
    {
     "data": {
      "text/plain": [
       "AIMessageChunk(content='Roasted Vegetable Salad Recipe:\\n\\nIngredients:\\n- Assorted vegetables (such as bell peppers, zucchini, eggplant, cherry tomatoes)\\n- Olive oil\\n- Salt and pepper\\n- Balsamic vinegar\\n- Mixed greens\\n- Feta cheese (optional)\\n- Fresh herbs (such as basil or parsley)\\n\\nInstructions:\\n1. Preheat the oven to 400°F (200°C).\\n2. Cut the vegetables into bite-sized pieces and place them on a baking sheet.\\n3. Drizzle with olive oil, salt, and pepper, and toss to coat.\\n4. Roast the vegetables in the oven for about 20-25 minutes, or until they are tender and slightly caramelized.\\n5. In a large bowl, toss together the mixed greens and roasted vegetables.\\n6. Drizzle with balsamic vinegar and sprinkle with crumbled feta cheese and fresh herbs.\\n7. Toss everything together to combine and serve immediately. Enjoy your Roasted Vegetable Salad!')"
      ]
     },
     "execution_count": 6,
     "metadata": {},
     "output_type": "execute_result"
    }
   ],
   "source": [
    "veg_chef_prompt=ChatPromptTemplate.from_messages([\n",
    "    (\"system\",\"You are a chef that can only respond in the form of vegetarian recipes\"),\n",
    "    (\"human\",\"I have {veg_ingredients}. What can I make with them?\"),\n",
    "    ])\n",
    "\n",
    "veg_chain= veg_chef_prompt | chat\n",
    "\n",
    "final_chain= {\"veg_ingredients\":chef_chain} | veg_chain\n",
    "\n",
    "final_chain.invoke({\n",
    "    \"ingredients\":\"chicken,lettuce,tomato,cucumber\"\n",
    "})\n",
    "\n"
   ]
  }
 ],
 "metadata": {
  "kernelspec": {
   "display_name": "env-py311",
   "language": "python",
   "name": "python3"
  },
  "language_info": {
   "codemirror_mode": {
    "name": "ipython",
    "version": 3
   },
   "file_extension": ".py",
   "mimetype": "text/x-python",
   "name": "python",
   "nbconvert_exporter": "python",
   "pygments_lexer": "ipython3",
   "version": "3.11.13"
  }
 },
 "nbformat": 4,
 "nbformat_minor": 5
}
